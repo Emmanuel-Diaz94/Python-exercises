{
  "cells": [
    {
      "cell_type": "markdown",
      "metadata": {
        "id": "view-in-github",
        "colab_type": "text"
      },
      "source": [
        "<a href=\"https://colab.research.google.com/github/Emmanuel-Diaz94/Python-exercises/blob/main/content/es/docencia/python/ejercicios/soluciones/tipos-datos/ejercicio6.ipynb\" target=\"_parent\"><img src=\"https://colab.research.google.com/assets/colab-badge.svg\" alt=\"Open In Colab\"/></a>"
      ]
    },
    {
      "cell_type": "markdown",
      "metadata": {
        "id": "FDnmx8P8wmq6"
      },
      "source": [
        "## Ejercicio\n",
        "\n",
        "Escribir un programa queme pida dos numeros, que haga la división y luego me de como resultado el cosiente y en la misma linea de texto me indique las decimales si es que las hay.\n"
      ]
    },
    {
      "cell_type": "markdown",
      "source": [
        "# Sección nueva"
      ],
      "metadata": {
        "id": "7xK76PGXIGkk"
      }
    },
    {
      "cell_type": "markdown",
      "metadata": {
        "id": "xXK3YfILwmq7"
      },
      "source": [
        "## Solución"
      ]
    },
    {
      "cell_type": "code",
      "execution_count": 49,
      "metadata": {
        "id": "BpH4Dq1Bwmq7",
        "outputId": "8568cf8e-e88d-46ae-fc91-24aee9b6f8f4",
        "colab": {
          "base_uri": "https://localhost:8080/"
        }
      },
      "outputs": [
        {
          "output_type": "stream",
          "name": "stdout",
          "text": [
            "ingresa un numero entero positivo 22\n",
            "ingresa un numero entero positivo 6\n",
            "Tu resultado es  3.6666666666666665 y las decimales son 0.6666666666666665\n"
          ]
        }
      ],
      "source": [
        "numero1 = input(\"ingresa un numero entero positivo \")\n",
        "numero2 = input(\"ingresa un numero entero positivo \")\n",
        "resultado = (int(numero1))/(int(numero2))\n",
        "\n",
        "if resultado != int(resultado):\n",
        "  resto = (resultado - int(resultado))\n",
        "  print(\"Tu resultado es  \" + str(resultado) + \" y las decimales son \" + str(resto))\n",
        "\n",
        "else:\n",
        "  print(0)\n",
        "\n",
        "\n",
        "\n"
      ]
    }
  ],
  "metadata": {
    "kernelspec": {
      "display_name": "Python 3",
      "language": "python",
      "name": "python3"
    },
    "language_info": {
      "codemirror_mode": {
        "name": "ipython",
        "version": 3
      },
      "file_extension": ".py",
      "mimetype": "text/x-python",
      "name": "python",
      "nbconvert_exporter": "python",
      "pygments_lexer": "ipython3",
      "version": "3.7.4-final"
    },
    "colab": {
      "provenance": [],
      "include_colab_link": true
    }
  },
  "nbformat": 4,
  "nbformat_minor": 0
}